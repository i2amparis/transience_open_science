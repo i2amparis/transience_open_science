{
 "cells": [
  {
   "cell_type": "markdown",
   "id": "eab07091-89ec-4cfc-adfc-bff1cb702ed3",
   "metadata": {},
   "source": [
    "## TRANSIENCE nomenclature template and Variable Ontology"
   ]
  },
  {
   "cell_type": "markdown",
   "id": "666e3e5e-0b68-4447-898f-1688482ff947",
   "metadata": {},
   "source": [
    "### Importing Libraries"
   ]
  },
  {
   "cell_type": "code",
   "execution_count": 1,
   "id": "ac68f6cb-d29d-4dc8-8dcb-33420e89b41b",
   "metadata": {},
   "outputs": [],
   "source": [
    "import pandas as pd\n",
    "import yaml\n",
    "from pprint import pprint\n",
    "from rdflib import Graph, Namespace, URIRef, Literal\n",
    "from rdflib.namespace import RDF, RDFS, OWL"
   ]
  },
  {
   "cell_type": "markdown",
   "id": "7d06ae76-0b51-4eae-bad4-48523237ad21",
   "metadata": {},
   "source": [
    "### Loading Data"
   ]
  },
  {
   "cell_type": "code",
   "execution_count": 2,
   "id": "8fcff8e8-2357-44a9-9d7d-03aa8cc47f60",
   "metadata": {},
   "outputs": [],
   "source": [
    "# Load the CSV template\n",
    "input_df = pd.read_csv('data/transience_nomenclature.csv', \n",
    "                 sep=';', encoding='utf-8').fillna('')"
   ]
  },
  {
   "cell_type": "markdown",
   "id": "03621770-0409-4f26-be44-67d89722262d",
   "metadata": {},
   "source": [
    "### Creating the YAML file"
   ]
  },
  {
   "cell_type": "code",
   "execution_count": 3,
   "id": "d629fbee-40f1-4589-842b-6098a0e3b922",
   "metadata": {},
   "outputs": [],
   "source": [
    "# Prepare the output dict\n",
    "output = {\n",
    "    'transience_nomenclature': {\n",
    "        'variables': [],\n",
    "        'parameters': {\n",
    "            'inputs': [],\n",
    "            'outputs': []\n",
    "        }\n",
    "    }\n",
    "}\n",
    "\n",
    "# Helper to append entries\n",
    "def make_entry(row):\n",
    "    entry = {}\n",
    "    if row['Definition']:\n",
    "        entry['description'] = row['Definition']\n",
    "    if row['Unit']:\n",
    "        entry['unit'] = row['Unit']\n",
    "    if row['Output_of_model(s)']:\n",
    "        entry['output_of_model'] = row['Output_of_model(s)']\n",
    "    if row['Input_to_model(s)']:\n",
    "        entry['input_to_model'] = row['Input_to_model(s)']\n",
    "    if row['Defined by']:\n",
    "        entry['defined_by'] = row['Defined by']\n",
    "    return { row['Name']: entry }\n",
    "\n",
    "# Fill variables\n",
    "for _, row in input_df[input_df['Type'] == 'variable'].iterrows():\n",
    "    output['transience_nomenclature']['variables'].append(make_entry(row))\n",
    "\n",
    "# Fill parameter inputs\n",
    "for _, row in input_df[input_df['Type'] == 'parameter_input'].iterrows():\n",
    "    output['transience_nomenclature']['parameters']['inputs'].append(make_entry(row))\n",
    "\n",
    "# Fill parameter outputs\n",
    "for _, row in input_df[input_df['Type'] == 'parameter_output'].iterrows():\n",
    "    output['transience_nomenclature']['parameters']['outputs'].append(make_entry(row))\n",
    "\n",
    "# Create YAML \n",
    "with open('data/transience_nomenclature.yaml', 'w', encoding='utf-8') as f:\n",
    "    yaml.safe_dump(\n",
    "        output,\n",
    "        f,\n",
    "        sort_keys=False,\n",
    "        allow_unicode=True,\n",
    "        width=10000\n",
    "    )"
   ]
  },
  {
   "cell_type": "markdown",
   "id": "8567d7f2-6cd0-49ab-8133-65013b14e7f9",
   "metadata": {},
   "source": [
    "### Creating Ontology from YAML"
   ]
  },
  {
   "cell_type": "code",
   "execution_count": 4,
   "id": "08b093ae-98eb-4994-9609-ff61b8fb5ba8",
   "metadata": {},
   "outputs": [],
   "source": [
    "with open('data/transience_nomenclature.yaml', 'r') as yaml_file:\n",
    "    data = yaml.safe_load(yaml_file)"
   ]
  },
  {
   "cell_type": "code",
   "execution_count": 5,
   "id": "c0a24f64-7669-4758-b52d-2ea693d01756",
   "metadata": {},
   "outputs": [],
   "source": [
    "# Extract and format the variables into a more usable Python structure\n",
    "variables = {}\n",
    "for item in data['transience_nomenclature']['variables']:\n",
    "    for var_name, var_info in item.items():\n",
    "        variables[var_name] = var_info\n",
    "\n",
    "parameters = {}\n",
    "\n",
    "# Parameter inputs\n",
    "for item in data['transience_nomenclature']['parameters']['inputs']:\n",
    "    for param_name, param_info in item.items():\n",
    "        parameters[param_name] = param_info\n",
    "\n",
    "# Parameter outputs\n",
    "for item in data['transience_nomenclature']['parameters']['outputs']:\n",
    "    for param_name, param_info in item.items():\n",
    "        parameters[param_name] = param_info"
   ]
  },
  {
   "cell_type": "code",
   "execution_count": 8,
   "id": "6404d521-637e-461f-868f-a4b1b1cf46fa",
   "metadata": {},
   "outputs": [
    {
     "data": {
      "text/plain": [
       "<Graph identifier=Nac787108d9a5436cba6fc310f903c229 (<class 'rdflib.graph.Graph'>)>"
      ]
     },
     "execution_count": 8,
     "metadata": {},
     "output_type": "execute_result"
    }
   ],
   "source": [
    "# RDF graph and namespaces\n",
    "g = Graph()\n",
    "EX = Namespace(\"http://transience.eu/ontologies/\")\n",
    "g.bind(\"ex\", EX)\n",
    "g.bind(\"rdfs\", RDFS)\n",
    "g.bind(\"owl\", OWL)\n",
    "\n",
    "# ontology declaration\n",
    "ontology_uri = URIRef(\"http://transience.eu/ontologies/\")\n",
    "g.add((ontology_uri, RDF.type, OWL.Ontology))\n",
    "\n",
    "# base classes\n",
    "g.add((EX.Variable, RDF.type, OWL.Class))\n",
    "g.add((EX.Variable, RDFS.comment, Literal(\"Base class for all Variables\")))\n",
    "\n",
    "g.add((EX.Parameter, RDF.type, OWL.Class))\n",
    "g.add((EX.Parameter, RDFS.comment, Literal(\"Base class for all Parameters\")))\n",
    "\n",
    "g.add((EX.ParameterInput, RDF.type, OWL.Class))\n",
    "g.add((EX.ParameterInput, RDFS.subClassOf, EX.Parameter))\n",
    "g.add((EX.ParameterInput, RDFS.comment, Literal(\"Parameter Input\")))\n",
    "\n",
    "g.add((EX.ParameterOutput, RDF.type, OWL.Class))\n",
    "g.add((EX.ParameterOutput, RDFS.subClassOf, EX.Parameter))\n",
    "g.add((EX.ParameterOutput, RDFS.comment, Literal(\"Parameter Output\")))\n",
    "\n",
    "uri_name = var_name.replace(\" \", \"_\") \\\n",
    "                    .replace(\"|\", \"_\") \\\n",
    "                    .replace(\"/\", \"_\") \\\n",
    "                    .replace(\"[\", \"\") \\\n",
    "                    .replace(\"]\", \"\")\n",
    "# variables as classes\n",
    "for item in data[\"transience_nomenclature\"][\"variables\"]:\n",
    "    for var_name, var_info in item.items():\n",
    "        uri_name = var_name.replace(\" \", \"_\") \\\n",
    "                    .replace(\"|\", \"_\") \\\n",
    "                    .replace(\"/\", \"_\") \\\n",
    "                    .replace(\"[\", \"\") \\\n",
    "                    .replace(\"]\", \"\")\n",
    "        var_uri = EX[uri_name]\n",
    "        g.add((var_uri, RDF.type, OWL.Class))\n",
    "        g.add((var_uri, RDFS.subClassOf, EX.Variable))\n",
    "        g.add((var_uri, RDFS.label, Literal(var_name)))\n",
    "        g.add((var_uri, RDFS.comment, Literal(var_info[\"description\"])))\n",
    "        g.add((var_uri, EX.unit, Literal(var_info[\"unit\"])))\n",
    "\n",
    "\n",
    "# parameter inputs as classes\n",
    "for item in data['transience_nomenclature']['parameters']['inputs']:\n",
    "    for param_name, param_info in item.items():\n",
    "        uri_name = param_name.replace(\" \", \"_\") \\\n",
    "                    .replace(\"|\", \"_\") \\\n",
    "                    .replace(\"/\", \"_\") \\\n",
    "                    .replace(\"[\", \"\") \\\n",
    "                    .replace(\"]\", \"\")\n",
    "        param_uri = EX[uri_name]\n",
    "        g.add((param_uri, RDF.type, OWL.Class))\n",
    "        g.add((param_uri, RDFS.subClassOf, EX.ParameterInput))\n",
    "        g.add((param_uri, RDFS.label,   Literal(param_name)))\n",
    "        g.add((param_uri, RDFS.comment, Literal(param_info.get(\"description\", \"\"))))\n",
    "        g.add((param_uri, EX.unit,      Literal(param_info.get(\"unit\", \"\"))))\n",
    "\n",
    "# parameter outputs as classes\n",
    "for item in data['transience_nomenclature']['parameters']['outputs']:\n",
    "    for param_name, param_info in item.items():\n",
    "        uri_name = param_name.replace(\" \", \"_\") \\\n",
    "                    .replace(\"|\", \"_\") \\\n",
    "                    .replace(\"/\", \"_\") \\\n",
    "                    .replace(\"[\", \"\") \\\n",
    "                    .replace(\"]\", \"\")\n",
    "        param_uri = EX[uri_name]\n",
    "        g.add((param_uri, RDF.type, OWL.Class))\n",
    "        g.add((param_uri, RDFS.subClassOf, EX.ParameterOutput))\n",
    "        g.add((param_uri, RDFS.label,   Literal(param_name)))\n",
    "        g.add((param_uri, RDFS.comment, Literal(param_info.get(\"description\", \"\"))))\n",
    "        g.add((param_uri, EX.unit,      Literal(param_info.get(\"unit\", \"\"))))\n",
    "\n",
    "# Save to file\n",
    "g.serialize(destination=\"data/transience_variables.owl\", format=\"xml\")"
   ]
  }
 ],
 "metadata": {
  "kernelspec": {
   "display_name": "Python 3 (ipykernel)",
   "language": "python",
   "name": "python3"
  },
  "language_info": {
   "codemirror_mode": {
    "name": "ipython",
    "version": 3
   },
   "file_extension": ".py",
   "mimetype": "text/x-python",
   "name": "python",
   "nbconvert_exporter": "python",
   "pygments_lexer": "ipython3",
   "version": "3.12.9"
  }
 },
 "nbformat": 4,
 "nbformat_minor": 5
}
